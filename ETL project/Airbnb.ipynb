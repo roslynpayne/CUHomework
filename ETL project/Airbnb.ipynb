{
 "cells": [
  {
   "cell_type": "code",
   "execution_count": 66,
   "metadata": {},
   "outputs": [],
   "source": [
    "import pandas as pd\n",
    "from sqlalchemy import create_engine\n",
    "import numpy as np\n",
    "import csv\n",
    "import matplotlib.pyplot as plt\n",
    "import pymongo"
   ]
  },
  {
   "cell_type": "code",
   "execution_count": 67,
   "metadata": {},
   "outputs": [],
   "source": [
    "listing_host_csv = \"resources/NYCAribnb.csv\"\n",
    "listing_host_df = pd.read_csv(listing_host_csv,encoding=\"utf8\")"
   ]
  },
  {
   "cell_type": "code",
   "execution_count": 68,
   "metadata": {},
   "outputs": [
    {
     "output_type": "execute_result",
     "data": {
      "text/plain": "     id                                              name  host_id  \\\n0  2539                Clean & quiet apt home by the park     2787   \n1  2595                             Skylit Midtown Castle     2845   \n2  3647               THE VILLAGE OF HARLEM....NEW YORK !     4632   \n3  3831                   Cozy Entire Floor of Brownstone     4869   \n4  5022  Entire Apt: Spacious Studio/Loft by central park     7192   \n\n     host_name neighbourhood_group neighbourhood  latitude  longitude  \\\n0         John            Brooklyn    Kensington  40.64749  -73.97237   \n1     Jennifer           Manhattan       Midtown  40.75362  -73.98377   \n2    Elisabeth           Manhattan        Harlem  40.80902  -73.94190   \n3  LisaRoxanne            Brooklyn  Clinton Hill  40.68514  -73.95976   \n4        Laura           Manhattan   East Harlem  40.79851  -73.94399   \n\n         room_type  price  minimum_nights  number_of_reviews last_review  \\\n0     Private room    149               1                  9  10/19/2018   \n1  Entire home/apt    225               1                 45   5/21/2019   \n2     Private room    150               3                  0         NaN   \n3  Entire home/apt     89               1                270    7/5/2019   \n4  Entire home/apt     80              10                  9  11/19/2018   \n\n   reviews_per_month  calculated_host_listings_count  availability_365  \n0               0.21                               6               365  \n1               0.38                               2               355  \n2                NaN                               1               365  \n3               4.64                               1               194  \n4               0.10                               1                 0  ",
      "text/html": "<div>\n<style scoped>\n    .dataframe tbody tr th:only-of-type {\n        vertical-align: middle;\n    }\n\n    .dataframe tbody tr th {\n        vertical-align: top;\n    }\n\n    .dataframe thead th {\n        text-align: right;\n    }\n</style>\n<table border=\"1\" class=\"dataframe\">\n  <thead>\n    <tr style=\"text-align: right;\">\n      <th></th>\n      <th>id</th>\n      <th>name</th>\n      <th>host_id</th>\n      <th>host_name</th>\n      <th>neighbourhood_group</th>\n      <th>neighbourhood</th>\n      <th>latitude</th>\n      <th>longitude</th>\n      <th>room_type</th>\n      <th>price</th>\n      <th>minimum_nights</th>\n      <th>number_of_reviews</th>\n      <th>last_review</th>\n      <th>reviews_per_month</th>\n      <th>calculated_host_listings_count</th>\n      <th>availability_365</th>\n    </tr>\n  </thead>\n  <tbody>\n    <tr>\n      <th>0</th>\n      <td>2539</td>\n      <td>Clean &amp; quiet apt home by the park</td>\n      <td>2787</td>\n      <td>John</td>\n      <td>Brooklyn</td>\n      <td>Kensington</td>\n      <td>40.64749</td>\n      <td>-73.97237</td>\n      <td>Private room</td>\n      <td>149</td>\n      <td>1</td>\n      <td>9</td>\n      <td>10/19/2018</td>\n      <td>0.21</td>\n      <td>6</td>\n      <td>365</td>\n    </tr>\n    <tr>\n      <th>1</th>\n      <td>2595</td>\n      <td>Skylit Midtown Castle</td>\n      <td>2845</td>\n      <td>Jennifer</td>\n      <td>Manhattan</td>\n      <td>Midtown</td>\n      <td>40.75362</td>\n      <td>-73.98377</td>\n      <td>Entire home/apt</td>\n      <td>225</td>\n      <td>1</td>\n      <td>45</td>\n      <td>5/21/2019</td>\n      <td>0.38</td>\n      <td>2</td>\n      <td>355</td>\n    </tr>\n    <tr>\n      <th>2</th>\n      <td>3647</td>\n      <td>THE VILLAGE OF HARLEM....NEW YORK !</td>\n      <td>4632</td>\n      <td>Elisabeth</td>\n      <td>Manhattan</td>\n      <td>Harlem</td>\n      <td>40.80902</td>\n      <td>-73.94190</td>\n      <td>Private room</td>\n      <td>150</td>\n      <td>3</td>\n      <td>0</td>\n      <td>NaN</td>\n      <td>NaN</td>\n      <td>1</td>\n      <td>365</td>\n    </tr>\n    <tr>\n      <th>3</th>\n      <td>3831</td>\n      <td>Cozy Entire Floor of Brownstone</td>\n      <td>4869</td>\n      <td>LisaRoxanne</td>\n      <td>Brooklyn</td>\n      <td>Clinton Hill</td>\n      <td>40.68514</td>\n      <td>-73.95976</td>\n      <td>Entire home/apt</td>\n      <td>89</td>\n      <td>1</td>\n      <td>270</td>\n      <td>7/5/2019</td>\n      <td>4.64</td>\n      <td>1</td>\n      <td>194</td>\n    </tr>\n    <tr>\n      <th>4</th>\n      <td>5022</td>\n      <td>Entire Apt: Spacious Studio/Loft by central park</td>\n      <td>7192</td>\n      <td>Laura</td>\n      <td>Manhattan</td>\n      <td>East Harlem</td>\n      <td>40.79851</td>\n      <td>-73.94399</td>\n      <td>Entire home/apt</td>\n      <td>80</td>\n      <td>10</td>\n      <td>9</td>\n      <td>11/19/2018</td>\n      <td>0.10</td>\n      <td>1</td>\n      <td>0</td>\n    </tr>\n  </tbody>\n</table>\n</div>"
     },
     "metadata": {},
     "execution_count": 68
    }
   ],
   "source": [
    "listing_host_df.rename(index=str,columns={\"listing_name\":\"name\"},inplace=True)\n",
    "listing_host_df.head()"
   ]
  },
  {
   "cell_type": "code",
   "execution_count": 69,
   "metadata": {},
   "outputs": [],
   "source": [
    "# Create new data with select columns for the AirBnB listings\n",
    "listing_host_df = listing_host_df[[\"id\",\"name\",\"host_id\",\"host_name\",\"neighbourhood_group\",\"neighbourhood\",\"latitude\",\"longitude\",\"room_type\",\"price\",\"minimum_nights\",\"number_of_reviews\",\"last_review\",\"reviews_per_month\",\"calculated_host_listings_count\",\"availability_365\"]].copy()"
   ]
  },
  {
   "cell_type": "code",
   "execution_count": 70,
   "metadata": {},
   "outputs": [
    {
     "output_type": "execute_result",
     "data": {
      "text/plain": "     id                                              name  host_id  \\\n0  2539                Clean & quiet apt home by the park     2787   \n1  2595                             Skylit Midtown Castle     2845   \n2  3647               THE VILLAGE OF HARLEM....NEW YORK !     4632   \n3  3831                   Cozy Entire Floor of Brownstone     4869   \n4  5022  Entire Apt: Spacious Studio/Loft by central park     7192   \n\n     host_name neighbourhood_group neighbourhood  latitude  longitude  \\\n0         John            Brooklyn    Kensington  40.64749  -73.97237   \n1     Jennifer           Manhattan       Midtown  40.75362  -73.98377   \n2    Elisabeth           Manhattan        Harlem  40.80902  -73.94190   \n3  LisaRoxanne            Brooklyn  Clinton Hill  40.68514  -73.95976   \n4        Laura           Manhattan   East Harlem  40.79851  -73.94399   \n\n         room_type  price  minimum_nights  number_of_reviews last_review  \\\n0     Private room    149               1                  9  2018-10-19   \n1  Entire home/apt    225               1                 45  2019-05-21   \n2     Private room    150               3                  0         NaT   \n3  Entire home/apt     89               1                270  2019-07-05   \n4  Entire home/apt     80              10                  9  2018-11-19   \n\n   reviews_per_month  calculated_host_listings_count  availability_365  \n0               0.21                               6               365  \n1               0.38                               2               355  \n2                NaN                               1               365  \n3               4.64                               1               194  \n4               0.10                               1                 0  ",
      "text/html": "<div>\n<style scoped>\n    .dataframe tbody tr th:only-of-type {\n        vertical-align: middle;\n    }\n\n    .dataframe tbody tr th {\n        vertical-align: top;\n    }\n\n    .dataframe thead th {\n        text-align: right;\n    }\n</style>\n<table border=\"1\" class=\"dataframe\">\n  <thead>\n    <tr style=\"text-align: right;\">\n      <th></th>\n      <th>id</th>\n      <th>name</th>\n      <th>host_id</th>\n      <th>host_name</th>\n      <th>neighbourhood_group</th>\n      <th>neighbourhood</th>\n      <th>latitude</th>\n      <th>longitude</th>\n      <th>room_type</th>\n      <th>price</th>\n      <th>minimum_nights</th>\n      <th>number_of_reviews</th>\n      <th>last_review</th>\n      <th>reviews_per_month</th>\n      <th>calculated_host_listings_count</th>\n      <th>availability_365</th>\n    </tr>\n  </thead>\n  <tbody>\n    <tr>\n      <th>0</th>\n      <td>2539</td>\n      <td>Clean &amp; quiet apt home by the park</td>\n      <td>2787</td>\n      <td>John</td>\n      <td>Brooklyn</td>\n      <td>Kensington</td>\n      <td>40.64749</td>\n      <td>-73.97237</td>\n      <td>Private room</td>\n      <td>149</td>\n      <td>1</td>\n      <td>9</td>\n      <td>2018-10-19</td>\n      <td>0.21</td>\n      <td>6</td>\n      <td>365</td>\n    </tr>\n    <tr>\n      <th>1</th>\n      <td>2595</td>\n      <td>Skylit Midtown Castle</td>\n      <td>2845</td>\n      <td>Jennifer</td>\n      <td>Manhattan</td>\n      <td>Midtown</td>\n      <td>40.75362</td>\n      <td>-73.98377</td>\n      <td>Entire home/apt</td>\n      <td>225</td>\n      <td>1</td>\n      <td>45</td>\n      <td>2019-05-21</td>\n      <td>0.38</td>\n      <td>2</td>\n      <td>355</td>\n    </tr>\n    <tr>\n      <th>2</th>\n      <td>3647</td>\n      <td>THE VILLAGE OF HARLEM....NEW YORK !</td>\n      <td>4632</td>\n      <td>Elisabeth</td>\n      <td>Manhattan</td>\n      <td>Harlem</td>\n      <td>40.80902</td>\n      <td>-73.94190</td>\n      <td>Private room</td>\n      <td>150</td>\n      <td>3</td>\n      <td>0</td>\n      <td>NaT</td>\n      <td>NaN</td>\n      <td>1</td>\n      <td>365</td>\n    </tr>\n    <tr>\n      <th>3</th>\n      <td>3831</td>\n      <td>Cozy Entire Floor of Brownstone</td>\n      <td>4869</td>\n      <td>LisaRoxanne</td>\n      <td>Brooklyn</td>\n      <td>Clinton Hill</td>\n      <td>40.68514</td>\n      <td>-73.95976</td>\n      <td>Entire home/apt</td>\n      <td>89</td>\n      <td>1</td>\n      <td>270</td>\n      <td>2019-07-05</td>\n      <td>4.64</td>\n      <td>1</td>\n      <td>194</td>\n    </tr>\n    <tr>\n      <th>4</th>\n      <td>5022</td>\n      <td>Entire Apt: Spacious Studio/Loft by central park</td>\n      <td>7192</td>\n      <td>Laura</td>\n      <td>Manhattan</td>\n      <td>East Harlem</td>\n      <td>40.79851</td>\n      <td>-73.94399</td>\n      <td>Entire home/apt</td>\n      <td>80</td>\n      <td>10</td>\n      <td>9</td>\n      <td>2018-11-19</td>\n      <td>0.10</td>\n      <td>1</td>\n      <td>0</td>\n    </tr>\n  </tbody>\n</table>\n</div>"
     },
     "metadata": {},
     "execution_count": 70
    }
   ],
   "source": [
    "# convert dates to datetime\n",
    "listing_host_df[\"last_review\"]=pd.to_datetime(listing_host_df[\"last_review\"])\n",
    "listing_host_df.head()"
   ]
  },
  {
   "cell_type": "code",
   "execution_count": 71,
   "metadata": {},
   "outputs": [
    {
     "output_type": "execute_result",
     "data": {
      "text/plain": "{'id': 8,\n 'name': 179,\n 'host_id': 9,\n 'host_name': 35,\n 'neighbourhood_group': 13,\n 'neighbourhood': 26,\n 'latitude': 18,\n 'longitude': 18,\n 'room_type': 15,\n 'price': 5,\n 'minimum_nights': 4,\n 'number_of_reviews': 3,\n 'last_review': 19,\n 'reviews_per_month': 5,\n 'calculated_host_listings_count': 3,\n 'availability_365': 3}"
     },
     "metadata": {},
     "execution_count": 71
    }
   ],
   "source": [
    "dict([(v, listing_host_df[v].apply(lambda r: len(str(r)) if r!=None else 0).max())for v in listing_host_df.columns.values])"
   ]
  },
  {
   "cell_type": "code",
   "execution_count": 72,
   "metadata": {},
   "outputs": [
    {
     "output_type": "execute_result",
     "data": {
      "text/plain": "id                                         int64\nname                                      object\nhost_id                                    int64\nhost_name                                 object\nneighbourhood_group                       object\nneighbourhood                             object\nlatitude                                 float64\nlongitude                                float64\nroom_type                                 object\nprice                                      int64\nminimum_nights                             int64\nnumber_of_reviews                          int64\nlast_review                       datetime64[ns]\nreviews_per_month                        float64\ncalculated_host_listings_count             int64\navailability_365                           int64\ndtype: object"
     },
     "metadata": {},
     "execution_count": 72
    }
   ],
   "source": [
    "# changing the leftover value (minus currency sign and commas) to a number\n",
    "listing_host_df[\"price\"] = pd.to_numeric(listing_host_df[\"price\"])\n",
    "listing_host_df.dtypes"
   ]
  },
  {
   "cell_type": "code",
   "execution_count": 32,
   "metadata": {},
   "outputs": [],
   "source": [
    "# # Create new data with select columns for the AirBnB hosts\n",
    "# host_df = listing_host_df[[\"host_id\",\"host_name\",\"host_since\",\"host_location\",\"host_response_time\",\"host_response_rate\",\"host_acceptance_rate\",\"host_is_superhost\",\"host_neighbourhood\",\"host_listings_count\",\"host_has_profile_pic\",\"host_identity_verified\"]].copy()"
   ]
  },
  {
   "cell_type": "code",
   "execution_count": 73,
   "metadata": {},
   "outputs": [
    {
     "output_type": "execute_result",
     "data": {
      "text/plain": "                 id       host_id      latitude     longitude         price  \\\ncount  4.889500e+04  4.889500e+04  48895.000000  48895.000000  48895.000000   \nmean   1.901714e+07  6.762001e+07     40.728949    -73.952170    152.720687   \nstd    1.098311e+07  7.861097e+07      0.054530      0.046157    240.154170   \nmin    2.539000e+03  2.438000e+03     40.499790    -74.244420      0.000000   \n25%    9.471945e+06  7.822033e+06     40.690100    -73.983070     69.000000   \n50%    1.967728e+07  3.079382e+07     40.723070    -73.955680    106.000000   \n75%    2.915218e+07  1.074344e+08     40.763115    -73.936275    175.000000   \nmax    3.648724e+07  2.743213e+08     40.913060    -73.712990  10000.000000   \n\n       minimum_nights  number_of_reviews  reviews_per_month  \\\ncount    48895.000000       48895.000000       38843.000000   \nmean         7.029962          23.274466           1.373221   \nstd         20.510550          44.550582           1.680442   \nmin          1.000000           0.000000           0.010000   \n25%          1.000000           1.000000           0.190000   \n50%          3.000000           5.000000           0.720000   \n75%          5.000000          24.000000           2.020000   \nmax       1250.000000         629.000000          58.500000   \n\n       calculated_host_listings_count  availability_365  \ncount                    48895.000000      48895.000000  \nmean                         7.143982        112.781327  \nstd                         32.952519        131.622289  \nmin                          1.000000          0.000000  \n25%                          1.000000          0.000000  \n50%                          1.000000         45.000000  \n75%                          2.000000        227.000000  \nmax                        327.000000        365.000000  ",
      "text/html": "<div>\n<style scoped>\n    .dataframe tbody tr th:only-of-type {\n        vertical-align: middle;\n    }\n\n    .dataframe tbody tr th {\n        vertical-align: top;\n    }\n\n    .dataframe thead th {\n        text-align: right;\n    }\n</style>\n<table border=\"1\" class=\"dataframe\">\n  <thead>\n    <tr style=\"text-align: right;\">\n      <th></th>\n      <th>id</th>\n      <th>host_id</th>\n      <th>latitude</th>\n      <th>longitude</th>\n      <th>price</th>\n      <th>minimum_nights</th>\n      <th>number_of_reviews</th>\n      <th>reviews_per_month</th>\n      <th>calculated_host_listings_count</th>\n      <th>availability_365</th>\n    </tr>\n  </thead>\n  <tbody>\n    <tr>\n      <th>count</th>\n      <td>4.889500e+04</td>\n      <td>4.889500e+04</td>\n      <td>48895.000000</td>\n      <td>48895.000000</td>\n      <td>48895.000000</td>\n      <td>48895.000000</td>\n      <td>48895.000000</td>\n      <td>38843.000000</td>\n      <td>48895.000000</td>\n      <td>48895.000000</td>\n    </tr>\n    <tr>\n      <th>mean</th>\n      <td>1.901714e+07</td>\n      <td>6.762001e+07</td>\n      <td>40.728949</td>\n      <td>-73.952170</td>\n      <td>152.720687</td>\n      <td>7.029962</td>\n      <td>23.274466</td>\n      <td>1.373221</td>\n      <td>7.143982</td>\n      <td>112.781327</td>\n    </tr>\n    <tr>\n      <th>std</th>\n      <td>1.098311e+07</td>\n      <td>7.861097e+07</td>\n      <td>0.054530</td>\n      <td>0.046157</td>\n      <td>240.154170</td>\n      <td>20.510550</td>\n      <td>44.550582</td>\n      <td>1.680442</td>\n      <td>32.952519</td>\n      <td>131.622289</td>\n    </tr>\n    <tr>\n      <th>min</th>\n      <td>2.539000e+03</td>\n      <td>2.438000e+03</td>\n      <td>40.499790</td>\n      <td>-74.244420</td>\n      <td>0.000000</td>\n      <td>1.000000</td>\n      <td>0.000000</td>\n      <td>0.010000</td>\n      <td>1.000000</td>\n      <td>0.000000</td>\n    </tr>\n    <tr>\n      <th>25%</th>\n      <td>9.471945e+06</td>\n      <td>7.822033e+06</td>\n      <td>40.690100</td>\n      <td>-73.983070</td>\n      <td>69.000000</td>\n      <td>1.000000</td>\n      <td>1.000000</td>\n      <td>0.190000</td>\n      <td>1.000000</td>\n      <td>0.000000</td>\n    </tr>\n    <tr>\n      <th>50%</th>\n      <td>1.967728e+07</td>\n      <td>3.079382e+07</td>\n      <td>40.723070</td>\n      <td>-73.955680</td>\n      <td>106.000000</td>\n      <td>3.000000</td>\n      <td>5.000000</td>\n      <td>0.720000</td>\n      <td>1.000000</td>\n      <td>45.000000</td>\n    </tr>\n    <tr>\n      <th>75%</th>\n      <td>2.915218e+07</td>\n      <td>1.074344e+08</td>\n      <td>40.763115</td>\n      <td>-73.936275</td>\n      <td>175.000000</td>\n      <td>5.000000</td>\n      <td>24.000000</td>\n      <td>2.020000</td>\n      <td>2.000000</td>\n      <td>227.000000</td>\n    </tr>\n    <tr>\n      <th>max</th>\n      <td>3.648724e+07</td>\n      <td>2.743213e+08</td>\n      <td>40.913060</td>\n      <td>-73.712990</td>\n      <td>10000.000000</td>\n      <td>1250.000000</td>\n      <td>629.000000</td>\n      <td>58.500000</td>\n      <td>327.000000</td>\n      <td>365.000000</td>\n    </tr>\n  </tbody>\n</table>\n</div>"
     },
     "metadata": {},
     "execution_count": 73
    }
   ],
   "source": [
    "listing_host_df.describe()"
   ]
  },
  {
   "cell_type": "code",
   "execution_count": 74,
   "metadata": {},
   "outputs": [
    {
     "output_type": "execute_result",
     "data": {
      "text/plain": "                 id       host_id      latitude     longitude         price  \\\ncount  4.889500e+04  4.889500e+04  48895.000000  48895.000000  48895.000000   \nmean   1.901714e+07  6.762001e+07     40.728949    -73.952170    152.720687   \nstd    1.098311e+07  7.861097e+07      0.054530      0.046157    240.154170   \nmin    2.539000e+03  2.438000e+03     40.499790    -74.244420      0.000000   \n25%    9.471945e+06  7.822033e+06     40.690100    -73.983070     69.000000   \n50%    1.967728e+07  3.079382e+07     40.723070    -73.955680    106.000000   \n75%    2.915218e+07  1.074344e+08     40.763115    -73.936275    175.000000   \nmax    3.648724e+07  2.743213e+08     40.913060    -73.712990  10000.000000   \n\n       minimum_nights  number_of_reviews  reviews_per_month  \\\ncount    48895.000000       48895.000000       38843.000000   \nmean         7.029962          23.274466           1.373221   \nstd         20.510550          44.550582           1.680442   \nmin          1.000000           0.000000           0.010000   \n25%          1.000000           1.000000           0.190000   \n50%          3.000000           5.000000           0.720000   \n75%          5.000000          24.000000           2.020000   \nmax       1250.000000         629.000000          58.500000   \n\n       calculated_host_listings_count  availability_365  \ncount                    48895.000000      48895.000000  \nmean                         7.143982        112.781327  \nstd                         32.952519        131.622289  \nmin                          1.000000          0.000000  \n25%                          1.000000          0.000000  \n50%                          1.000000         45.000000  \n75%                          2.000000        227.000000  \nmax                        327.000000        365.000000  ",
      "text/html": "<div>\n<style scoped>\n    .dataframe tbody tr th:only-of-type {\n        vertical-align: middle;\n    }\n\n    .dataframe tbody tr th {\n        vertical-align: top;\n    }\n\n    .dataframe thead th {\n        text-align: right;\n    }\n</style>\n<table border=\"1\" class=\"dataframe\">\n  <thead>\n    <tr style=\"text-align: right;\">\n      <th></th>\n      <th>id</th>\n      <th>host_id</th>\n      <th>latitude</th>\n      <th>longitude</th>\n      <th>price</th>\n      <th>minimum_nights</th>\n      <th>number_of_reviews</th>\n      <th>reviews_per_month</th>\n      <th>calculated_host_listings_count</th>\n      <th>availability_365</th>\n    </tr>\n  </thead>\n  <tbody>\n    <tr>\n      <th>count</th>\n      <td>4.889500e+04</td>\n      <td>4.889500e+04</td>\n      <td>48895.000000</td>\n      <td>48895.000000</td>\n      <td>48895.000000</td>\n      <td>48895.000000</td>\n      <td>48895.000000</td>\n      <td>38843.000000</td>\n      <td>48895.000000</td>\n      <td>48895.000000</td>\n    </tr>\n    <tr>\n      <th>mean</th>\n      <td>1.901714e+07</td>\n      <td>6.762001e+07</td>\n      <td>40.728949</td>\n      <td>-73.952170</td>\n      <td>152.720687</td>\n      <td>7.029962</td>\n      <td>23.274466</td>\n      <td>1.373221</td>\n      <td>7.143982</td>\n      <td>112.781327</td>\n    </tr>\n    <tr>\n      <th>std</th>\n      <td>1.098311e+07</td>\n      <td>7.861097e+07</td>\n      <td>0.054530</td>\n      <td>0.046157</td>\n      <td>240.154170</td>\n      <td>20.510550</td>\n      <td>44.550582</td>\n      <td>1.680442</td>\n      <td>32.952519</td>\n      <td>131.622289</td>\n    </tr>\n    <tr>\n      <th>min</th>\n      <td>2.539000e+03</td>\n      <td>2.438000e+03</td>\n      <td>40.499790</td>\n      <td>-74.244420</td>\n      <td>0.000000</td>\n      <td>1.000000</td>\n      <td>0.000000</td>\n      <td>0.010000</td>\n      <td>1.000000</td>\n      <td>0.000000</td>\n    </tr>\n    <tr>\n      <th>25%</th>\n      <td>9.471945e+06</td>\n      <td>7.822033e+06</td>\n      <td>40.690100</td>\n      <td>-73.983070</td>\n      <td>69.000000</td>\n      <td>1.000000</td>\n      <td>1.000000</td>\n      <td>0.190000</td>\n      <td>1.000000</td>\n      <td>0.000000</td>\n    </tr>\n    <tr>\n      <th>50%</th>\n      <td>1.967728e+07</td>\n      <td>3.079382e+07</td>\n      <td>40.723070</td>\n      <td>-73.955680</td>\n      <td>106.000000</td>\n      <td>3.000000</td>\n      <td>5.000000</td>\n      <td>0.720000</td>\n      <td>1.000000</td>\n      <td>45.000000</td>\n    </tr>\n    <tr>\n      <th>75%</th>\n      <td>2.915218e+07</td>\n      <td>1.074344e+08</td>\n      <td>40.763115</td>\n      <td>-73.936275</td>\n      <td>175.000000</td>\n      <td>5.000000</td>\n      <td>24.000000</td>\n      <td>2.020000</td>\n      <td>2.000000</td>\n      <td>227.000000</td>\n    </tr>\n    <tr>\n      <th>max</th>\n      <td>3.648724e+07</td>\n      <td>2.743213e+08</td>\n      <td>40.913060</td>\n      <td>-73.712990</td>\n      <td>10000.000000</td>\n      <td>1250.000000</td>\n      <td>629.000000</td>\n      <td>58.500000</td>\n      <td>327.000000</td>\n      <td>365.000000</td>\n    </tr>\n  </tbody>\n</table>\n</div>"
     },
     "metadata": {},
     "execution_count": 74
    }
   ],
   "source": [
    "# delete duplicates\n",
    "listing_host_df.drop_duplicates(keep=\"first\",inplace=True)\n",
    "listing_host_df.describe()"
   ]
  },
  {
   "cell_type": "code",
   "execution_count": 75,
   "metadata": {},
   "outputs": [],
   "source": [
    "# Store CSV to DataFrame\n",
    "availability_file = \"Resources/calendar.csv\"\n",
    "availability_df = pd.read_csv(availability_file,encoding=\"utf8\")"
   ]
  },
  {
   "cell_type": "code",
   "execution_count": 76,
   "metadata": {},
   "outputs": [
    {
     "output_type": "execute_result",
     "data": {
      "text/plain": "   listing_id available_date available   price\n0      241032     2016-01-04         t  $85.00\n1      241032     2016-01-05         t  $85.00\n2      241032     2016-01-06         f     NaN\n3      241032     2016-01-07         f     NaN\n4      241032     2016-01-08         f     NaN",
      "text/html": "<div>\n<style scoped>\n    .dataframe tbody tr th:only-of-type {\n        vertical-align: middle;\n    }\n\n    .dataframe tbody tr th {\n        vertical-align: top;\n    }\n\n    .dataframe thead th {\n        text-align: right;\n    }\n</style>\n<table border=\"1\" class=\"dataframe\">\n  <thead>\n    <tr style=\"text-align: right;\">\n      <th></th>\n      <th>listing_id</th>\n      <th>available_date</th>\n      <th>available</th>\n      <th>price</th>\n    </tr>\n  </thead>\n  <tbody>\n    <tr>\n      <th>0</th>\n      <td>241032</td>\n      <td>2016-01-04</td>\n      <td>t</td>\n      <td>$85.00</td>\n    </tr>\n    <tr>\n      <th>1</th>\n      <td>241032</td>\n      <td>2016-01-05</td>\n      <td>t</td>\n      <td>$85.00</td>\n    </tr>\n    <tr>\n      <th>2</th>\n      <td>241032</td>\n      <td>2016-01-06</td>\n      <td>f</td>\n      <td>NaN</td>\n    </tr>\n    <tr>\n      <th>3</th>\n      <td>241032</td>\n      <td>2016-01-07</td>\n      <td>f</td>\n      <td>NaN</td>\n    </tr>\n    <tr>\n      <th>4</th>\n      <td>241032</td>\n      <td>2016-01-08</td>\n      <td>f</td>\n      <td>NaN</td>\n    </tr>\n  </tbody>\n</table>\n</div>"
     },
     "metadata": {},
     "execution_count": 76
    }
   ],
   "source": [
    "# change column \"date\" to something that SQL doesn't already recognize\n",
    "availability_df.rename(index=str,columns={\"date\":\"available_date\"},inplace=True)\n",
    "# convert column to datetime\n",
    "availability_df[\"available_date\"]=pd.to_datetime(availability_df[\"available_date\"])\n",
    "availability_df.head()"
   ]
  },
  {
   "cell_type": "code",
   "execution_count": 77,
   "metadata": {},
   "outputs": [
    {
     "output_type": "execute_result",
     "data": {
      "text/plain": "   listing_id available_date  available   price\n0      241032     2016-01-04       True  $85.00\n1      241032     2016-01-05       True  $85.00\n2      241032     2016-01-06      False     NaN\n3      241032     2016-01-07      False     NaN\n4      241032     2016-01-08      False     NaN",
      "text/html": "<div>\n<style scoped>\n    .dataframe tbody tr th:only-of-type {\n        vertical-align: middle;\n    }\n\n    .dataframe tbody tr th {\n        vertical-align: top;\n    }\n\n    .dataframe thead th {\n        text-align: right;\n    }\n</style>\n<table border=\"1\" class=\"dataframe\">\n  <thead>\n    <tr style=\"text-align: right;\">\n      <th></th>\n      <th>listing_id</th>\n      <th>available_date</th>\n      <th>available</th>\n      <th>price</th>\n    </tr>\n  </thead>\n  <tbody>\n    <tr>\n      <th>0</th>\n      <td>241032</td>\n      <td>2016-01-04</td>\n      <td>True</td>\n      <td>$85.00</td>\n    </tr>\n    <tr>\n      <th>1</th>\n      <td>241032</td>\n      <td>2016-01-05</td>\n      <td>True</td>\n      <td>$85.00</td>\n    </tr>\n    <tr>\n      <th>2</th>\n      <td>241032</td>\n      <td>2016-01-06</td>\n      <td>False</td>\n      <td>NaN</td>\n    </tr>\n    <tr>\n      <th>3</th>\n      <td>241032</td>\n      <td>2016-01-07</td>\n      <td>False</td>\n      <td>NaN</td>\n    </tr>\n    <tr>\n      <th>4</th>\n      <td>241032</td>\n      <td>2016-01-08</td>\n      <td>False</td>\n      <td>NaN</td>\n    </tr>\n  </tbody>\n</table>\n</div>"
     },
     "metadata": {},
     "execution_count": 77
    }
   ],
   "source": [
    "# convert boolean columns to boolean\n",
    "availability_df[\"available\"].replace([\"t\",\"f\"], [True,False], inplace=True)\n",
    "availability_df.head()"
   ]
  },
  {
   "cell_type": "code",
   "execution_count": 78,
   "metadata": {},
   "outputs": [
    {
     "output_type": "execute_result",
     "data": {
      "text/plain": "   listing_id available_date  available  price\n0      241032     2016-01-04       True   85.0\n1      241032     2016-01-05       True   85.0\n2      241032     2016-01-06      False    NaN\n3      241032     2016-01-07      False    NaN\n4      241032     2016-01-08      False    NaN",
      "text/html": "<div>\n<style scoped>\n    .dataframe tbody tr th:only-of-type {\n        vertical-align: middle;\n    }\n\n    .dataframe tbody tr th {\n        vertical-align: top;\n    }\n\n    .dataframe thead th {\n        text-align: right;\n    }\n</style>\n<table border=\"1\" class=\"dataframe\">\n  <thead>\n    <tr style=\"text-align: right;\">\n      <th></th>\n      <th>listing_id</th>\n      <th>available_date</th>\n      <th>available</th>\n      <th>price</th>\n    </tr>\n  </thead>\n  <tbody>\n    <tr>\n      <th>0</th>\n      <td>241032</td>\n      <td>2016-01-04</td>\n      <td>True</td>\n      <td>85.0</td>\n    </tr>\n    <tr>\n      <th>1</th>\n      <td>241032</td>\n      <td>2016-01-05</td>\n      <td>True</td>\n      <td>85.0</td>\n    </tr>\n    <tr>\n      <th>2</th>\n      <td>241032</td>\n      <td>2016-01-06</td>\n      <td>False</td>\n      <td>NaN</td>\n    </tr>\n    <tr>\n      <th>3</th>\n      <td>241032</td>\n      <td>2016-01-07</td>\n      <td>False</td>\n      <td>NaN</td>\n    </tr>\n    <tr>\n      <th>4</th>\n      <td>241032</td>\n      <td>2016-01-08</td>\n      <td>False</td>\n      <td>NaN</td>\n    </tr>\n  </tbody>\n</table>\n</div>"
     },
     "metadata": {},
     "execution_count": 78
    }
   ],
   "source": [
    "# remove dollar sign\n",
    "availability_df[\"price\"] = availability_df[\"price\"].replace({'\\$': '', ',': ''}, regex=True)\n",
    "# convert the price column to numeric values instead of strings\n",
    "availability_df[\"price\"] = pd.to_numeric(availability_df[\"price\"])\n",
    "availability_df.head()\n"
   ]
  },
  {
   "cell_type": "code",
   "execution_count": 79,
   "metadata": {},
   "outputs": [
    {
     "output_type": "execute_result",
     "data": {
      "text/plain": "  index  listing_id available_date  available  price\n0     0      241032     2016-01-04       True   85.0\n1     1      241032     2016-01-05       True   85.0\n2     2      241032     2016-01-06      False    NaN\n3     3      241032     2016-01-07      False    NaN\n4     4      241032     2016-01-08      False    NaN",
      "text/html": "<div>\n<style scoped>\n    .dataframe tbody tr th:only-of-type {\n        vertical-align: middle;\n    }\n\n    .dataframe tbody tr th {\n        vertical-align: top;\n    }\n\n    .dataframe thead th {\n        text-align: right;\n    }\n</style>\n<table border=\"1\" class=\"dataframe\">\n  <thead>\n    <tr style=\"text-align: right;\">\n      <th></th>\n      <th>index</th>\n      <th>listing_id</th>\n      <th>available_date</th>\n      <th>available</th>\n      <th>price</th>\n    </tr>\n  </thead>\n  <tbody>\n    <tr>\n      <th>0</th>\n      <td>0</td>\n      <td>241032</td>\n      <td>2016-01-04</td>\n      <td>True</td>\n      <td>85.0</td>\n    </tr>\n    <tr>\n      <th>1</th>\n      <td>1</td>\n      <td>241032</td>\n      <td>2016-01-05</td>\n      <td>True</td>\n      <td>85.0</td>\n    </tr>\n    <tr>\n      <th>2</th>\n      <td>2</td>\n      <td>241032</td>\n      <td>2016-01-06</td>\n      <td>False</td>\n      <td>NaN</td>\n    </tr>\n    <tr>\n      <th>3</th>\n      <td>3</td>\n      <td>241032</td>\n      <td>2016-01-07</td>\n      <td>False</td>\n      <td>NaN</td>\n    </tr>\n    <tr>\n      <th>4</th>\n      <td>4</td>\n      <td>241032</td>\n      <td>2016-01-08</td>\n      <td>False</td>\n      <td>NaN</td>\n    </tr>\n  </tbody>\n</table>\n</div>"
     },
     "metadata": {},
     "execution_count": 79
    }
   ],
   "source": [
    "availability_df.reset_index(inplace=True)\n",
    "availability_df.head()"
   ]
  },
  {
   "cell_type": "code",
   "execution_count": 80,
   "metadata": {},
   "outputs": [
    {
     "output_type": "execute_result",
     "data": {
      "text/plain": "  id  listing_id available_date  available  price\n0  0      241032     2016-01-04       True   85.0\n1  1      241032     2016-01-05       True   85.0\n2  2      241032     2016-01-06      False    NaN\n3  3      241032     2016-01-07      False    NaN\n4  4      241032     2016-01-08      False    NaN",
      "text/html": "<div>\n<style scoped>\n    .dataframe tbody tr th:only-of-type {\n        vertical-align: middle;\n    }\n\n    .dataframe tbody tr th {\n        vertical-align: top;\n    }\n\n    .dataframe thead th {\n        text-align: right;\n    }\n</style>\n<table border=\"1\" class=\"dataframe\">\n  <thead>\n    <tr style=\"text-align: right;\">\n      <th></th>\n      <th>id</th>\n      <th>listing_id</th>\n      <th>available_date</th>\n      <th>available</th>\n      <th>price</th>\n    </tr>\n  </thead>\n  <tbody>\n    <tr>\n      <th>0</th>\n      <td>0</td>\n      <td>241032</td>\n      <td>2016-01-04</td>\n      <td>True</td>\n      <td>85.0</td>\n    </tr>\n    <tr>\n      <th>1</th>\n      <td>1</td>\n      <td>241032</td>\n      <td>2016-01-05</td>\n      <td>True</td>\n      <td>85.0</td>\n    </tr>\n    <tr>\n      <th>2</th>\n      <td>2</td>\n      <td>241032</td>\n      <td>2016-01-06</td>\n      <td>False</td>\n      <td>NaN</td>\n    </tr>\n    <tr>\n      <th>3</th>\n      <td>3</td>\n      <td>241032</td>\n      <td>2016-01-07</td>\n      <td>False</td>\n      <td>NaN</td>\n    </tr>\n    <tr>\n      <th>4</th>\n      <td>4</td>\n      <td>241032</td>\n      <td>2016-01-08</td>\n      <td>False</td>\n      <td>NaN</td>\n    </tr>\n  </tbody>\n</table>\n</div>"
     },
     "metadata": {},
     "execution_count": 80
    }
   ],
   "source": [
    "#availability_df.dropna(subset=[\"listing_id\"],inplace=True)\n",
    "\n",
    "#availability_df[availability_df[\"listing_id\"].isna()==True]\n",
    "\n",
    "availability_df.rename(index=str,columns={\"index\":\"id\"},inplace=True)\n",
    "availability_df.head()"
   ]
  },
  {
   "cell_type": "code",
   "execution_count": 81,
   "metadata": {},
   "outputs": [],
   "source": [
    "rds_connection_string = \"postgres:postgres@localhost:5432/Airbnb\"\n",
    "engine = create_engine(f'postgresql://{rds_connection_string}')\n"
   ]
  },
  {
   "cell_type": "code",
   "execution_count": 82,
   "metadata": {},
   "outputs": [
    {
     "output_type": "execute_result",
     "data": {
      "text/plain": "['listings', 'property_availability']"
     },
     "metadata": {},
     "execution_count": 82
    }
   ],
   "source": [
    "engine.table_names()"
   ]
  },
  {
   "cell_type": "code",
   "execution_count": 83,
   "metadata": {},
   "outputs": [],
   "source": [
    "listing_host_df.to_sql(name='listings', con=engine, if_exists='append', index=False)"
   ]
  },
  {
   "cell_type": "code",
   "execution_count": 84,
   "metadata": {},
   "outputs": [],
   "source": [
    "availability_df.to_sql(name='property_availability', con=engine, if_exists='append', index=False)"
   ]
  },
  {
   "cell_type": "code",
   "execution_count": 85,
   "metadata": {},
   "outputs": [
    {
     "output_type": "execute_result",
     "data": {
      "text/plain": "     id                                              name host_id  \\\n0  2539                Clean & quiet apt home by the park    2787   \n1  2595                             Skylit Midtown Castle    2845   \n2  3647               THE VILLAGE OF HARLEM....NEW YORK !    4632   \n3  3831                   Cozy Entire Floor of Brownstone    4869   \n4  5022  Entire Apt: Spacious Studio/Loft by central park    7192   \n\n     host_name neighbourhood_group neighbourhood  latitude  longitude  \\\n0         John            Brooklyn    Kensington  40.64749  -73.97237   \n1     Jennifer           Manhattan       Midtown  40.75362  -73.98377   \n2    Elisabeth           Manhattan        Harlem  40.80902  -73.94190   \n3  LisaRoxanne            Brooklyn  Clinton Hill  40.68514  -73.95976   \n4        Laura           Manhattan   East Harlem  40.79851  -73.94399   \n\n         room_type  price  minimum_nights  number_of_reviews last_review  \\\n0     Private room  149.0               1                  9  2018-10-19   \n1  Entire home/apt  225.0               1                 45  2019-05-21   \n2     Private room  150.0               3                  0        None   \n3  Entire home/apt   89.0               1                270  2019-07-05   \n4  Entire home/apt   80.0              10                  9  2018-11-19   \n\n   reviews_per_month  calculated_host_listings_count  availability_365  \n0               0.21                               6               365  \n1               0.38                               2               355  \n2                NaN                               1               365  \n3               4.64                               1               194  \n4               0.10                               1                 0  ",
      "text/html": "<div>\n<style scoped>\n    .dataframe tbody tr th:only-of-type {\n        vertical-align: middle;\n    }\n\n    .dataframe tbody tr th {\n        vertical-align: top;\n    }\n\n    .dataframe thead th {\n        text-align: right;\n    }\n</style>\n<table border=\"1\" class=\"dataframe\">\n  <thead>\n    <tr style=\"text-align: right;\">\n      <th></th>\n      <th>id</th>\n      <th>name</th>\n      <th>host_id</th>\n      <th>host_name</th>\n      <th>neighbourhood_group</th>\n      <th>neighbourhood</th>\n      <th>latitude</th>\n      <th>longitude</th>\n      <th>room_type</th>\n      <th>price</th>\n      <th>minimum_nights</th>\n      <th>number_of_reviews</th>\n      <th>last_review</th>\n      <th>reviews_per_month</th>\n      <th>calculated_host_listings_count</th>\n      <th>availability_365</th>\n    </tr>\n  </thead>\n  <tbody>\n    <tr>\n      <th>0</th>\n      <td>2539</td>\n      <td>Clean &amp; quiet apt home by the park</td>\n      <td>2787</td>\n      <td>John</td>\n      <td>Brooklyn</td>\n      <td>Kensington</td>\n      <td>40.64749</td>\n      <td>-73.97237</td>\n      <td>Private room</td>\n      <td>149.0</td>\n      <td>1</td>\n      <td>9</td>\n      <td>2018-10-19</td>\n      <td>0.21</td>\n      <td>6</td>\n      <td>365</td>\n    </tr>\n    <tr>\n      <th>1</th>\n      <td>2595</td>\n      <td>Skylit Midtown Castle</td>\n      <td>2845</td>\n      <td>Jennifer</td>\n      <td>Manhattan</td>\n      <td>Midtown</td>\n      <td>40.75362</td>\n      <td>-73.98377</td>\n      <td>Entire home/apt</td>\n      <td>225.0</td>\n      <td>1</td>\n      <td>45</td>\n      <td>2019-05-21</td>\n      <td>0.38</td>\n      <td>2</td>\n      <td>355</td>\n    </tr>\n    <tr>\n      <th>2</th>\n      <td>3647</td>\n      <td>THE VILLAGE OF HARLEM....NEW YORK !</td>\n      <td>4632</td>\n      <td>Elisabeth</td>\n      <td>Manhattan</td>\n      <td>Harlem</td>\n      <td>40.80902</td>\n      <td>-73.94190</td>\n      <td>Private room</td>\n      <td>150.0</td>\n      <td>3</td>\n      <td>0</td>\n      <td>None</td>\n      <td>NaN</td>\n      <td>1</td>\n      <td>365</td>\n    </tr>\n    <tr>\n      <th>3</th>\n      <td>3831</td>\n      <td>Cozy Entire Floor of Brownstone</td>\n      <td>4869</td>\n      <td>LisaRoxanne</td>\n      <td>Brooklyn</td>\n      <td>Clinton Hill</td>\n      <td>40.68514</td>\n      <td>-73.95976</td>\n      <td>Entire home/apt</td>\n      <td>89.0</td>\n      <td>1</td>\n      <td>270</td>\n      <td>2019-07-05</td>\n      <td>4.64</td>\n      <td>1</td>\n      <td>194</td>\n    </tr>\n    <tr>\n      <th>4</th>\n      <td>5022</td>\n      <td>Entire Apt: Spacious Studio/Loft by central park</td>\n      <td>7192</td>\n      <td>Laura</td>\n      <td>Manhattan</td>\n      <td>East Harlem</td>\n      <td>40.79851</td>\n      <td>-73.94399</td>\n      <td>Entire home/apt</td>\n      <td>80.0</td>\n      <td>10</td>\n      <td>9</td>\n      <td>2018-11-19</td>\n      <td>0.10</td>\n      <td>1</td>\n      <td>0</td>\n    </tr>\n  </tbody>\n</table>\n</div>"
     },
     "metadata": {},
     "execution_count": 85
    }
   ],
   "source": [
    "pd.read_sql(\"select * from listings\",engine).head()"
   ]
  },
  {
   "cell_type": "code",
   "execution_count": 86,
   "metadata": {},
   "outputs": [
    {
     "output_type": "execute_result",
     "data": {
      "text/plain": "   id  listing_id available_date  available  price\n0   0      241032     2016-01-04       True   85.0\n1   1      241032     2016-01-05       True   85.0\n2   2      241032     2016-01-06      False    NaN\n3   3      241032     2016-01-07      False    NaN\n4   4      241032     2016-01-08      False    NaN",
      "text/html": "<div>\n<style scoped>\n    .dataframe tbody tr th:only-of-type {\n        vertical-align: middle;\n    }\n\n    .dataframe tbody tr th {\n        vertical-align: top;\n    }\n\n    .dataframe thead th {\n        text-align: right;\n    }\n</style>\n<table border=\"1\" class=\"dataframe\">\n  <thead>\n    <tr style=\"text-align: right;\">\n      <th></th>\n      <th>id</th>\n      <th>listing_id</th>\n      <th>available_date</th>\n      <th>available</th>\n      <th>price</th>\n    </tr>\n  </thead>\n  <tbody>\n    <tr>\n      <th>0</th>\n      <td>0</td>\n      <td>241032</td>\n      <td>2016-01-04</td>\n      <td>True</td>\n      <td>85.0</td>\n    </tr>\n    <tr>\n      <th>1</th>\n      <td>1</td>\n      <td>241032</td>\n      <td>2016-01-05</td>\n      <td>True</td>\n      <td>85.0</td>\n    </tr>\n    <tr>\n      <th>2</th>\n      <td>2</td>\n      <td>241032</td>\n      <td>2016-01-06</td>\n      <td>False</td>\n      <td>NaN</td>\n    </tr>\n    <tr>\n      <th>3</th>\n      <td>3</td>\n      <td>241032</td>\n      <td>2016-01-07</td>\n      <td>False</td>\n      <td>NaN</td>\n    </tr>\n    <tr>\n      <th>4</th>\n      <td>4</td>\n      <td>241032</td>\n      <td>2016-01-08</td>\n      <td>False</td>\n      <td>NaN</td>\n    </tr>\n  </tbody>\n</table>\n</div>"
     },
     "metadata": {},
     "execution_count": 86
    }
   ],
   "source": [
    "pd.read_sql(\"select * from property_availability\",engine).head()"
   ]
  }
 ],
 "metadata": {
  "kernelspec": {
   "display_name": "Python 3",
   "language": "python",
   "name": "python3"
  },
  "language_info": {
   "codemirror_mode": {
    "name": "ipython",
    "version": 3
   },
   "file_extension": ".py",
   "mimetype": "text/x-python",
   "name": "python",
   "nbconvert_exporter": "python",
   "pygments_lexer": "ipython3",
   "version": "3.7.6"
  }
 },
 "nbformat": 4,
 "nbformat_minor": 4
}