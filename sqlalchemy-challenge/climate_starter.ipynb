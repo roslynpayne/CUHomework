{
 "cells": [
  {
   "cell_type": "code",
   "execution_count": null,
   "metadata": {},
   "outputs": [],
   "source": [
    "%matplotlib inline\n",
    "from matplotlib import style\n",
    "style.use('fivethirtyeight')\n",
    "import matplotlib.pyplot as plt"
   ]
  },
  {
   "cell_type": "code",
   "execution_count": null,
   "metadata": {},
   "outputs": [],
   "source": [
    "import numpy as np\n",
    "import pandas as pd"
   ]
  },
  {
   "cell_type": "code",
   "execution_count": null,
   "metadata": {},
   "outputs": [],
   "source": [
    "import datetime as dt"
   ]
  },
  {
   "cell_type": "markdown",
   "metadata": {},
   "source": [
    "# Reflect Tables into SQLAlchemy ORM"
   ]
  },
  {
   "cell_type": "code",
   "execution_count": null,
   "metadata": {},
   "outputs": [],
   "source": [
    "# Python SQL toolkit and Object Relational Mapper\n",
    "import sqlalchemy\n",
    "from sqlalchemy.ext.automap import automap_base\n",
    "from sqlalchemy.orm import Session\n",
    "from sqlalchemy import create_engine, func"
   ]
  },
  {
   "cell_type": "code",
   "execution_count": null,
   "metadata": {},
   "outputs": [],
   "source": [
    "engine = create_engine(\"sqlite:///Resources/hawaii.sqlite\")"
   ]
  },
  {
   "cell_type": "code",
   "execution_count": null,
   "metadata": {},
   "outputs": [],
   "source": [
    "# reflect an existing database into a new model\n",
    "Base = automap_base()\n",
    "# reflect the tables\n",
    "Base.prepare(engine, reflect=True)"
   ]
  },
  {
   "cell_type": "code",
   "execution_count": null,
   "metadata": {},
   "outputs": [],
   "source": [
    "# We can view all of the classes that automap found\n",
    "Base.classes.keys()"
   ]
  },
  {
   "cell_type": "code",
   "execution_count": null,
   "metadata": {},
   "outputs": [],
   "source": [
    "# Save references to each table\n",
    "Measurement = Base.classes.measurement\n",
    "Station = Base.classes.station"
   ]
  },
  {
   "cell_type": "code",
   "execution_count": null,
   "metadata": {},
   "outputs": [],
   "source": [
    "# Create our session (link) from Python to the DB\n",
    "session = Session(engine)"
   ]
  },
  {
   "cell_type": "code",
   "execution_count": null,
   "metadata": {},
   "outputs": [],
   "source": [
    "# Print Fields in the Table of the Database\n",
    "inspector = inspect(engine)\n",
    "columns = inspector.get_columns('measurement')\n",
    "for c in columns:\n",
    "    print(f'{c[\"name\"]}      \\t{c[\"type\"]}')"
   ]
  },
  {
   "cell_type": "code",
   "execution_count": null,
   "metadata": {},
   "outputs": [],
   "source": [
    "# Print Fields in the Table of the Database\n",
    "inspector = inspect(engine)\n",
    "columns = inspector.get_columns('station')\n",
    "for c in columns:\n",
    "    print(f'{c[\"name\"]}      \\t{c[\"type\"]}')"
   ]
  },
  {
   "cell_type": "markdown",
   "metadata": {},
   "source": [
    "# Exploratory Climate Analysis"
   ]
  },
  {
   "cell_type": "code",
   "execution_count": null,
   "metadata": {},
   "outputs": [],
   "source": [
    "# Design a query to retrieve the last 12 months of precipitation data and plot the results\n",
    "\n",
    "\n",
    "precipitation = session.query(Measurement.date,Measurement.prcp).\\\n",
    "                    filter(func.strftime(\"%Y-%m-%d\", Measurement.date) >= '2016-08-23').\\\n",
    "                    order_by(Measurement.date).all()\n",
    "\n",
    "# Load data to a dataframe\n",
    "precipitation_df = pd.DataFrame(precipitation, columns=['Date', 'Precipitation'])\n",
    "# Sort dataframe by date\n",
    "precipitation_df = precipitation_df.sort_values(by='Date', ascending=True)\n",
    "#precipitation_df = precipitation_df.dropna()\n",
    "\n",
    "# For setting up the index\n",
    "# precipitation_df.set_index('Date', inplace=True)\n",
    "\n",
    "# Resize the plot\n",
    "plt.figure(figsize=(20,10));\n",
    "\n",
    "# Plot the precipitation\n",
    "plt.bar(precipitation_df[\"Date\"], precipitation_df[\"Precipitation\"], \n",
    "        align='center', width=2);\n",
    "\n",
    "# Define the reference font size\n",
    "ref_font_size = 20\n",
    "\n",
    "# Add labels and Title\n",
    "plt.xlabel('Date',fontweight=\"bold\", fontsize=ref_font_size+2);\n",
    "plt.ylabel('Precipitation  (in)',fontweight=\"bold\", fontsize=ref_font_size+2);\n",
    "plt.title('Precipitation by Date' ,fontweight=\"bold\", fontsize=ref_font_size+3);\n",
    "\n",
    "# Add Grids\n",
    "plt.grid(b=bool, which='major', axis='y', color='grey',  alpha=0.55);\n",
    "\n",
    "# Add ticks\n",
    "plt.xticks(\"\", rotation=90, fontweight=\"bold\", alpha=0.55);\n",
    "plt.yticks(rotation=0, fontweight=\"bold\", alpha=0.55, fontsize=ref_font_size);\n",
    "\n",
    "# Save Plot\n",
    "plt.savefig(\"Output/Fig 1. Barchart - Precipitation by Date\" +'.png',bbox_inches='tight');\n",
    "\n",
    "#Show the Plot\n",
    "plt.show();"
   ]
  },
  {
   "cell_type": "code",
   "execution_count": null,
   "metadata": {},
   "outputs": [],
   "source": [
    "# Use Pandas to calcualte the summary statistics for the precipitation data\n",
    "# precipitation_df.set_index('Date', inplace=True)\n",
    "precipitation_df.describe()"
   ]
  },
  {
   "cell_type": "code",
   "execution_count": null,
   "metadata": {},
   "outputs": [],
   "source": [
    "# Design a query to show how many stations are available in this dataset?\n",
    "session.query(func.count(Station.id)).all()"
   ]
  },
  {
   "cell_type": "code",
   "execution_count": null,
   "metadata": {},
   "outputs": [],
   "source": [
    "# What are the most active stations? (i.e. what stations have the most rows)?\n",
    "# List the stations and the counts in descending order.\n",
    "session.query(Station.station, func.count(Station.id)).\\\n",
    "    filter(Station.station == Measurement.station).\\\n",
    "    group_by(Measurement.station).\\\n",
    "    order_by(func.count(Station.station).desc()).all()\n"
   ]
  },
  {
   "cell_type": "code",
   "execution_count": null,
   "metadata": {},
   "outputs": [],
   "source": [
    "# Using the station id from the previous query, calculate the lowest temperature recorded, \n",
    "# highest temperature recorded, and average temperature most active station?\n",
    "session.query(Measurement.station,  func.min(Measurement.tobs), \n",
    "              func.max(Measurement.tobs), func.avg(Measurement.tobs)).\\\n",
    "    filter(Measurement.station == \"USC00519281\").\\\n",
    "    group_by(Measurement.station).all()"
   ]
  },
  {
   "cell_type": "code",
   "execution_count": null,
   "metadata": {},
   "outputs": [],
   "source": [
    "# Choose the station with the highest number of temperature observations.\n",
    "# Query the last 12 months of temperature observation data for this station and plot the results as a histogram\n",
    "temperature = session.query(Measurement.date,  Measurement.tobs).\\\n",
    "                    filter(Measurement.station == \"USC00519281\").\\\n",
    "                    filter(func.strftime(\"%Y-%m-%d\", Measurement.date) >= '2016-08-23').all()\n",
    "\n",
    "# Temperature dataframe cleanning process\n",
    "temperature_df = pd.DataFrame(temperature, columns=['Date', 'Temperature'])\n",
    "temperature_df = temperature_df.sort_values(by='Date', ascending=True)\n",
    "temperature_df.set_index('Date', inplace=True)\n",
    "\n",
    "# Resize Plot\n",
    "plt.figure(figsize=[20,10]);\n",
    "\n",
    "# Define Histogram paramaters\n",
    "n, bins, patches = plt.hist(x=temperature_df[\"Temperature\"], bins=12, \n",
    "                           color='royalblue',alpha=0.9);\n",
    "# Labeling, tickers and grids\n",
    "plt.grid(axis='y', alpha=0.75);\n",
    "plt.xlabel('Temperature (F)',fontweight=\"bold\", alpha=0.8, fontsize=20);\n",
    "plt.ylabel('Frequency',fontweight=\"bold\", alpha=0.8, fontsize=20);\n",
    "plt.xticks(fontsize=15, fontweight=\"bold\", alpha=0.55);\n",
    "plt.yticks(fontsize=15, fontweight=\"bold\", alpha=0.55);\n",
    "plt.title('Temperature Frequency Histogram \\n for Station:\"USC00519281\"',\n",
    "          fontweight=\"bold\", alpha=0.9, fontsize=20);\n",
    "\n",
    "# Save Plot\n",
    "plt.savefig(\"Output/Fig 2. Histogram - Temperature Frequency for Station USC00519281\" +'.png',bbox_inches='tight');\n",
    "\n",
    "#Show the Plot\n",
    "plt.show();"
   ]
  },
  {
   "cell_type": "code",
   "execution_count": null,
   "metadata": {},
   "outputs": [],
   "source": [
    "# This function called `calc_temps` will accept start date and end date in the format '%Y-%m-%d' \n",
    "# and return the minimum, average, and maximum temperatures for that range of dates\n",
    "def calc_temps(start_date, end_date):\n",
    "    \"\"\"TMIN, TAVG, and TMAX for a list of dates.\n",
    "    \n",
    "    Args:\n",
    "        start_date (string): A date string in the format %Y-%m-%d\n",
    "        end_date (string): A date string in the format %Y-%m-%d\n",
    "        \n",
    "    Returns:\n",
    "        TMIN, TAVE, and TMAX\n",
    "    \"\"\"\n",
    "    \n",
    "    return session.query(func.min(Measurement.tobs), func.avg(Measurement.tobs), func.max(Measurement.tobs)).\\\n",
    "        filter(Measurement.date >= start_date).filter(Measurement.date <= end_date).all()\n",
    "\n",
    "# function usage example\n",
    "print(calc_temps('2012-02-28', '2012-03-05'))"
   ]
  },
  {
   "cell_type": "code",
   "execution_count": null,
   "metadata": {},
   "outputs": [],
   "source": [
    "# Use your previous function `calc_temps` to calculate the tmin, tavg, and tmax \n",
    "# for your trip using the previous year's data for those same dates.\n",
    "# Vacation Dates\n",
    "initial_vacation_date = \"2016-12-01\"\n",
    "final_vacation_date = \"2016-12-16\"\n",
    "\n",
    "# Previous Year Dates\n",
    "initial_prevyear_date = \"2015-12-01\"\n",
    "final_prevyear_date = \"2015-12-16\"\n",
    "\n",
    "# Max, min and average calculation\n",
    "min_vacation_temp = calc_temps(initial_prevyear_date, final_prevyear_date)[0][0]\n",
    "avg_vacation_temp = calc_temps(initial_prevyear_date, final_prevyear_date)[0][1]\n",
    "max_vacation_temp = calc_temps(initial_prevyear_date, final_prevyear_date)[0][2]\n",
    "\n",
    "print(min_vacation_temp, avg_vacation_temp, max_vacation_temp)"
   ]
  },
  {
   "cell_type": "code",
   "execution_count": null,
   "metadata": {},
   "outputs": [],
   "source": [
    "# Plot the results from your previous query as a bar chart. \n",
    "# Use \"Trip Avg Temp\" as your Title\n",
    "# Use the average temperature for the y value\n",
    "# Use the peak-to-peak (tmax-tmin) value as the y error bar (yerr)\n",
    "\n",
    "error_prev_year = max_vacation_temp-min_vacation_temp\n",
    "\n",
    "# Resize Plot\n",
    "plt.figure(figsize=[3,10]);\n",
    "\n",
    "# Define Bar and Error paramaters\n",
    "plt.bar(1, avg_vacation_temp, yerr=error_prev_year, align='center', alpha=0.5, \n",
    "        ecolor='black', capsize=7)\n",
    "\n",
    "# Labeling, tickers and grids\n",
    "\n",
    "plt.ylabel('Temperature (F)',fontweight=\"bold\", alpha=0.8, fontsize=20);\n",
    "plt.xticks(fontsize=15, fontweight=\"bold\", alpha=0.55);\n",
    "plt.yticks(fontsize=15, fontweight=\"bold\", alpha=0.55);\n",
    "plt.title('Trip\\n Average Temperature',\n",
    "          fontweight=\"bold\", alpha=0.9, fontsize=20);\n",
    "plt.grid(b=None, which='major', axis='x')\n",
    "\n",
    "plt.tick_params(\n",
    "    axis='x',          # changes apply to the x-axis\n",
    "    which='both',      # both major and minor ticks are affected\n",
    "    bottom=False,      # ticks along the bottom edge are off\n",
    "    top=False,         # ticks along the top edge are off\n",
    "    labelbottom=False) # labels along the bottom edge are off\n",
    "\n",
    "# Save Plot\n",
    "plt.savefig(\"Output/Fig 3. Barchart - Trip Average Temperature\" +'.png',bbox_inches='tight');\n",
    "\n",
    "#Show the Plot\n",
    "plt.show();"
   ]
  },
  {
   "cell_type": "code",
   "execution_count": null,
   "metadata": {},
   "outputs": [],
   "source": [
    "# Calculate the total amount of rainfall per weather station for your trip dates using the previous year's matching dates.\n",
    "# Sort this in descending order by precipitation amount and list the station, name, latitude, longitude, and elevation\n",
    "session.query(Station.station,  Station.name, Station.latitude, Station.longitude, Station.elevation).\\\n",
    "   filter(Station.station == Measurement.station).\\\n",
    "       filter(Measurement.date >= initial_prevyear_date).filter(Measurement.date <= final_prevyear_date).\\\n",
    "           group_by(Measurement.station).\\\n",
    "               order_by(Measurement.prcp.desc()).all()"
   ]
  },
  {
   "cell_type": "markdown",
   "metadata": {},
   "source": [
    "## Bonus Challenge Assignment"
   ]
  },
  {
   "cell_type": "code",
   "execution_count": null,
   "metadata": {},
   "outputs": [],
   "source": [
    "# This function called `calc_temps` will accept start date and end date in the format '%Y-%m-%d' \n",
    "# and return the minimum, average, and maximum temperatures for that range of dates\n",
    "def calc_temps(start_date, end_date):\n",
    "    \"\"\"TMIN, TAVG, and TMAX for a list of dates.\n",
    "    \n",
    "    Args:\n",
    "        start_date (string): A date string in the format %Y-%m-%d\n",
    "        end_date (string): A date string in the format %Y-%m-%d\n",
    "        \n",
    "    Returns:\n",
    "        TMIN, TAVE, and TMAX\n",
    "    \"\"\"\n",
    "    \n",
    "    return session.query(func.min(Measurement.tobs), func.avg(Measurement.tobs), func.max(Measurement.tobs)).\\\n",
    "        filter(Measurement.date >= start_date).filter(Measurement.date <= end_date).all()\n",
    "\n",
    "# function usage example\n",
    "print(calc_temps('2012-02-28', '2012-03-05'))\n",
    "def daily_normals(date):\n",
    "    \"\"\"Daily Normals.\n",
    "    \n",
    "    Args:\n",
    "        date (str): A date string in the format '%m-%d'\n",
    "        \n",
    "    Returns:\n",
    "        A list of tuples containing the daily normals, tmin, tavg, and tmax\n",
    "    \n",
    "    \"\"\"\n",
    "    \n",
    "    sel = [func.min(Measurement.tobs), func.avg(Measurement.tobs), func.max(Measurement.tobs)]\n",
    "    return session.query(*sel).filter(func.strftime(\"%m-%d\", Measurement.date) == date).all()\n",
    "    \n",
    "daily_normals(\"01-01\")[0]"
   ]
  },
  {
   "cell_type": "code",
   "execution_count": null,
   "metadata": {},
   "outputs": [],
   "source": [
    "# Use your previous function `calc_temps` to calculate the tmin, tavg, and tmax \n",
    "# for your trip using the previous year's data for those same dates.\n"
   ]
  },
  {
   "cell_type": "code",
   "execution_count": null,
   "metadata": {},
   "outputs": [],
   "source": [
    "# Plot the results from your previous query as a bar chart. \n",
    "# Use \"Trip Avg Temp\" as your Title\n",
    "# Use the average temperature for the y value\n",
    "# Use the peak-to-peak (tmax-tmin) value as the y error bar (yerr)\n"
   ]
  },
  {
   "cell_type": "code",
   "execution_count": null,
   "metadata": {},
   "outputs": [],
   "source": [
    "# Calculate the total amount of rainfall per weather station for your trip dates using the previous year's matching dates.\n",
    "# Sort this in descending order by precipitation amount and list the station, name, latitude, longitude, and elevation\n",
    "\n"
   ]
  },
  {
   "cell_type": "code",
   "execution_count": null,
   "metadata": {},
   "outputs": [],
   "source": [
    "# Create a query that will calculate the daily normals \n",
    "# (i.e. the averages for tmin, tmax, and tavg for all historic data matching a specific month and day)\n",
    "\n",
    "def daily_normals(date):\n",
    "    \"\"\"Daily Normals.\n",
    "    \n",
    "    Args:\n",
    "        date (str): A date string in the format '%m-%d'\n",
    "        \n",
    "    Returns:\n",
    "        A list of tuples containing the daily normals, tmin, tavg, and tmax\n",
    "    \n",
    "    \"\"\"\n",
    "    \n",
    "    sel = [func.min(Measurement.tobs), func.avg(Measurement.tobs), func.max(Measurement.tobs)]\n",
    "    return session.query(*sel).filter(func.strftime(\"%m-%d\", Measurement.date) == date).all()\n",
    "    \n",
    "daily_normals(\"01-01\")"
   ]
  },
  {
   "cell_type": "code",
   "execution_count": null,
   "metadata": {},
   "outputs": [],
   "source": [
    "# calculate the daily normals for your trip\n",
    "# push each tuple of calculations into a list called `normals`\n",
    "\n",
    "# Set the start and end date of the trip\n",
    "\n",
    "# Use the start and end date to create a range of dates\n",
    "\n",
    "# Stip off the year and save a list of %m-%d strings\n",
    "\n",
    "# Loop through the list of %m-%d strings and calculate the normals for each date\n"
   ]
  },
  {
   "cell_type": "code",
   "execution_count": null,
   "metadata": {},
   "outputs": [],
   "source": [
    "# Load the previous query results into a Pandas DataFrame and add the `trip_dates` range as the `date` index\n"
   ]
  },
  {
   "cell_type": "code",
   "execution_count": null,
   "metadata": {},
   "outputs": [],
   "source": [
    "# Plot the daily normals as an area plot with `stacked=False`\n",
    "\n",
    "# Plot\n",
    "normals_df.plot.area(stacked=False, figsize=(12, 10))\n",
    "\n",
    "# Legend\n",
    "plt.legend(('Min Temperature', 'Average Temperature', 'Max Temperature'),loc='lower center')\n",
    "\n",
    "# Labeling, tickers and grids\n",
    "plt.grid(axis='y', alpha=0.75);\n",
    "plt.xlabel('Vacation Dates',fontweight=\"bold\", alpha=0.8, fontsize=20);\n",
    "plt.ylabel('Temperature (F)',fontweight=\"bold\", alpha=0.8, fontsize=20);\n",
    "plt.xticks(fontsize=15, fontweight=\"bold\", alpha=0.55, rotation=90);\n",
    "plt.yticks(fontsize=15, fontweight=\"bold\", alpha=0.55);\n",
    "plt.title('Normal Temperatures for Dates',\n",
    "          fontweight=\"bold\", alpha=0.9, fontsize=20);\n",
    "plt.ylim(bottom=min(normals_df[\"T Min\"])-10)  \n",
    "# Save Plot\n",
    "plt.savefig(\"Output/Fig 4. Area Plot - Normal Temperatures for Vacation Dates\" +'.png',\n",
    "            bbox_inches='tight');\n",
    "\n",
    "#Show the Plot\n",
    "plt.show();\n"
   ]
  }
 ],
 "metadata": {
  "kernel_info": {
   "name": "python3"
  },
  "kernelspec": {
   "display_name": "Python 3",
   "language": "python",
   "name": "python3"
  },
  "language_info": {
   "codemirror_mode": {
    "name": "ipython",
    "version": 3
   },
   "file_extension": ".py",
   "mimetype": "text/x-python",
   "name": "python",
   "nbconvert_exporter": "python",
   "pygments_lexer": "ipython3",
   "version": "3.7.6"
  },
  "nteract": {
   "version": "0.12.3"
  },
  "varInspector": {
   "cols": {
    "lenName": 16,
    "lenType": 16,
    "lenVar": 40
   },
   "kernels_config": {
    "python": {
     "delete_cmd_postfix": "",
     "delete_cmd_prefix": "del ",
     "library": "var_list.py",
     "varRefreshCmd": "print(var_dic_list())"
    },
    "r": {
     "delete_cmd_postfix": ") ",
     "delete_cmd_prefix": "rm(",
     "library": "var_list.r",
     "varRefreshCmd": "cat(var_dic_list()) "
    }
   },
   "types_to_exclude": [
    "module",
    "function",
    "builtin_function_or_method",
    "instance",
    "_Feature"
   ],
   "window_display": false
  }
 },
 "nbformat": 4,
 "nbformat_minor": 2
}
